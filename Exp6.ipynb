{
  "nbformat": 4,
  "nbformat_minor": 0,
  "metadata": {
    "colab": {
      "provenance": [],
      "gpuType": "V28"
    },
    "kernelspec": {
      "name": "python3",
      "display_name": "Python 3"
    },
    "language_info": {
      "name": "python"
    },
    "accelerator": "TPU"
  },
  "cells": [
    {
      "cell_type": "code",
      "execution_count": null,
      "metadata": {
        "id": "ZHC7B7XIa9Yr"
      },
      "outputs": [],
      "source": [
        "from sklearn.ensemble import AdaBoostClassifier\n",
        "from sklearn import datasets\n",
        "from sklearn.model_selection import train_test_split\n",
        "from sklearn import metrics"
      ]
    },
    {
      "cell_type": "code",
      "source": [
        "iris = datasets.load_iris()\n",
        "X = iris.data\n",
        "y = iris.target"
      ],
      "metadata": {
        "id": "nFfiiVyzbM0w"
      },
      "execution_count": null,
      "outputs": []
    },
    {
      "cell_type": "code",
      "source": [
        "X_train, X_test, y_train, y_test = train_test_split(X,y,test_size=0.3)"
      ],
      "metadata": {
        "id": "Tjfm752kbVlV"
      },
      "execution_count": null,
      "outputs": []
    },
    {
      "cell_type": "code",
      "source": [
        "abc = AdaBoostClassifier(n_estimators=50,learning_rate=1)\n",
        "model = abc.fit(X_train,y_train)\n",
        "y_pred = model.predict(X_test)\n",
        "y_pred_train = model.predict(X_train)"
      ],
      "metadata": {
        "id": "mqh3k1edbv4b"
      },
      "execution_count": null,
      "outputs": []
    },
    {
      "cell_type": "code",
      "source": [
        "print(\"Testing Accuracy:\",metrics.accuracy_score(y_test,y_pred))\n",
        "print(\"Training Accuracy:\",metrics.accuracy_score(y_train,y_pred_train))"
      ],
      "metadata": {
        "colab": {
          "base_uri": "https://localhost:8080/"
        },
        "id": "cLmreFsrb1-K",
        "outputId": "61bc3ffc-437f-434c-b862-fdb8b47b4f47"
      },
      "execution_count": null,
      "outputs": [
        {
          "output_type": "stream",
          "name": "stdout",
          "text": [
            "Testing Accuracy: 0.9555555555555556\n",
            "Training Accuracy: 1.0\n"
          ]
        }
      ]
    },
    {
      "cell_type": "code",
      "source": [],
      "metadata": {
        "id": "rME7BufDOxZ0"
      },
      "execution_count": null,
      "outputs": []
    },
    {
      "cell_type": "code",
      "source": [
        "from sklearn.naive_bayes import GaussianNB\n",
        "NB = GaussianNB()\n",
        "abc = AdaBoostClassifier(n_estimators=50,estimator=NB,learning_rate=1)\n",
        "model = abc.fit(X_train,y_train)\n",
        "y_pred = model.predict(X_test)\n",
        "y_pred_train = model.predict(X_train)\n",
        "print(\"Testing Accuracy:\",metrics.accuracy_score(y_test,y_pred))\n",
        "print(\"Training Accuracy:\",metrics.accuracy_score(y_train,y_pred_train))"
      ],
      "metadata": {
        "colab": {
          "base_uri": "https://localhost:8080/"
        },
        "id": "-zGqL4o_b3cC",
        "outputId": "4d5e3316-e7ca-4fe7-f046-0426ca93f0a5"
      },
      "execution_count": null,
      "outputs": [
        {
          "output_type": "stream",
          "name": "stdout",
          "text": [
            "Testing Accuracy: 0.9333333333333333\n",
            "Training Accuracy: 1.0\n"
          ]
        }
      ]
    },
    {
      "cell_type": "markdown",
      "source": [
        "Create Synthetic Dataset"
      ],
      "metadata": {
        "id": "YHsFxHcKdhmL"
      }
    },
    {
      "cell_type": "code",
      "source": [
        "from numpy import mean, std\n",
        "from sklearn.datasets import make_classification\n",
        "from sklearn.model_selection import cross_val_score\n",
        "from sklearn.model_selection import RepeatedStratifiedKFold\n",
        "from sklearn.ensemble import AdaBoostClassifier"
      ],
      "metadata": {
        "id": "aDoiaSLQdEHD"
      },
      "execution_count": null,
      "outputs": []
    },
    {
      "cell_type": "code",
      "source": [
        "X,y = make_classification(n_samples=1000,n_features=20,n_informative=15,n_redundant=5,random_state=6)\n",
        "model = AdaBoostClassifier()\n",
        "cvs = RepeatedStratifiedKFold(n_splits=10,n_repeats=3,random_state=1)\n",
        "n_scores = cross_val_score(model,X,y,scoring='accuracy',cv=cvs,n_jobs=-1,error_score='raise')\n",
        "print('Accuracy: %.3f (%.3f)' % (mean(n_scores),std(n_scores)))"
      ],
      "metadata": {
        "colab": {
          "base_uri": "https://localhost:8080/"
        },
        "id": "bD2vActsd2ty",
        "outputId": "c411c4d0-3174-4aad-fd9f-ee23eeb502ba"
      },
      "execution_count": null,
      "outputs": [
        {
          "output_type": "stream",
          "name": "stdout",
          "text": [
            "Accuracy: 0.798 (0.034)\n"
          ]
        }
      ]
    },
    {
      "cell_type": "code",
      "source": [
        "X,y = make_classification(n_samples=1000,n_features=20,n_informative=15,n_redundant=5,random_state=6)\n",
        "print(X[1])"
      ],
      "metadata": {
        "colab": {
          "base_uri": "https://localhost:8080/"
        },
        "id": "cN4K0Qx1eRoK",
        "outputId": "b45fd4ab-4991-400f-8b17-89b640459885"
      },
      "execution_count": null,
      "outputs": [
        {
          "output_type": "stream",
          "name": "stdout",
          "text": [
            "[-2.42264447e+00  1.49687583e+00 -8.01106833e-01  2.06453050e+00\n",
            " -8.76754500e+00 -2.51286558e+00  1.40156770e+00  4.79941043e+00\n",
            "  1.39750172e+00 -5.62485856e-01 -6.03669967e-01 -3.12565915e+00\n",
            " -3.18175570e+00 -2.94187480e+00 -6.81902846e-03 -4.65861153e+00\n",
            " -6.38341467e+00  1.14726175e+00 -2.86306705e+00 -2.75750181e-01]\n"
          ]
        }
      ]
    },
    {
      "cell_type": "code",
      "source": [
        "model = AdaBoostClassifier()\n",
        "model.fit(X,y)\n",
        "row = [[-2.42264447, 1.49687583, -8.01106833, 2.06453050, -8.76754500, -2.51286558, 1.40156770, 4.79941043, 1.39750172, -5.62485856, -6.03669967, -3.12565915, -3.18175570, -2.94187480, -6.81902846, -4.65861153, -6.38341467, 1.14726175, -2.86306705, -2.75750181]]\n",
        "yhat = model.predict(row)\n",
        "print('Predicted Class: %d' % yhat[0])"
      ],
      "metadata": {
        "colab": {
          "base_uri": "https://localhost:8080/"
        },
        "id": "SotbgK2tf4iE",
        "outputId": "88126804-3097-4aeb-e53c-2a094ba4720f"
      },
      "execution_count": null,
      "outputs": [
        {
          "output_type": "stream",
          "name": "stdout",
          "text": [
            "Predicted Class: 1\n"
          ]
        }
      ]
    },
    {
      "cell_type": "code",
      "source": [
        "from sklearn.tree import DecisionTreeClassifier\n",
        "from sklearn.datasets import make_classification\n",
        "def get_datasets():\n",
        "  X,y = make_classification(n_samples=1000,n_features=20,n_informative=15,n_redundant=5,random_state=6)\n",
        "  return X,y\n",
        "def get_model():\n",
        "  models = dict()\n",
        "  for i in range(1,11):\n",
        "    base = DecisionTreeClassifier(max_depth=1)\n",
        "    models[str(i)] = AdaBoostClassifier(estimator=base)\n",
        "  return models\n",
        "\n",
        "def evaluate_model(model,X,y):\n",
        "  cvs = RepeatedStratifiedKFold(n_splits=10,n_repeats=3,random_state=1)\n",
        "  scores = cross_val_score(model,X,y,scoring='accuracy',cv=cvs,n_jobs=-1)\n",
        "  return scores"
      ],
      "metadata": {
        "id": "p_haSg6NguJk"
      },
      "execution_count": null,
      "outputs": []
    },
    {
      "cell_type": "code",
      "source": [
        "from matplotlib import pyplot\n",
        "from sklearn.tree import DecisionTreeClassifier\n",
        "from sklearn.ensemble import AdaBoostClassifier\n",
        "from sklearn.datasets import make_classification\n",
        "from sklearn.model_selection import RepeatedStratifiedKFold, cross_val_score\n",
        "from numpy import mean, std\n",
        "\n",
        "def get_dataset():\n",
        "  X, y = make_classification(n_samples=1000, n_features=20, n_informative=15, n_redundant=5, random_state=6)\n",
        "  return X, y\n",
        "\n",
        "def get_models():\n",
        "  models = dict()\n",
        "  for i in range(1, 11):\n",
        "    base = DecisionTreeClassifier(max_depth=i)\n",
        "    models[str(i)] = AdaBoostClassifier(estimator=base)\n",
        "  return models\n",
        "\n",
        "def evaluate_model(model, X, y):\n",
        "  cv = RepeatedStratifiedKFold(n_splits=10, n_repeats=3, random_state=1)\n",
        "  scores = cross_val_score(model, X, y, scoring='accuracy', cv=cv, n_jobs=-1)\n",
        "  return scores\n",
        "\n",
        "X, y = get_dataset()\n",
        "models = get_models()\n",
        "results, names = list(), list()\n",
        "\n",
        "for name, model in models.items():\n",
        "  scores = evaluate_model(model, X, y)\n",
        "  results.append(scores)\n",
        "  names.append(name)\n",
        "  print('>%s %.3f (%.3f)' % (name, mean(scores), std(scores)))\n",
        "\n",
        "pyplot.boxplot(results, labels=names)\n",
        "pyplot.show()"
      ],
      "metadata": {
        "colab": {
          "base_uri": "https://localhost:8080/",
          "height": 649
        },
        "id": "212F4pwsrfvY",
        "outputId": "b90a0508-0c2d-49ff-a8fb-ecf8d84ad86f"
      },
      "execution_count": null,
      "outputs": [
        {
          "output_type": "stream",
          "name": "stdout",
          "text": [
            ">1 0.798 (0.034)\n",
            ">2 0.853 (0.033)\n",
            ">3 0.894 (0.035)\n",
            ">4 0.911 (0.027)\n",
            ">5 0.923 (0.026)\n",
            ">6 0.931 (0.019)\n",
            ">7 0.934 (0.027)\n",
            ">8 0.931 (0.020)\n",
            ">9 0.936 (0.022)\n",
            ">10 0.931 (0.029)\n"
          ]
        },
        {
          "output_type": "stream",
          "name": "stderr",
          "text": [
            "<ipython-input-18-c1ba45db270a>:34: MatplotlibDeprecationWarning: The 'labels' parameter of boxplot() has been renamed 'tick_labels' since Matplotlib 3.9; support for the old name will be dropped in 3.11.\n",
            "  pyplot.boxplot(results, labels=names)\n"
          ]
        },
        {
          "output_type": "display_data",
          "data": {
            "text/plain": [
              "<Figure size 640x480 with 1 Axes>"
            ],
            "image/png": "[encoded data removed]"
          },
          "metadata": {}
        }
      ]
    },
    {
      "source": [
        "from matplotlib import pyplot\n",
        "from numpy import mean, std\n",
        "X, y = get_datasets()\n",
        "models = get_model()\n",
        "results, names = list(), list()\n",
        "for name, model in models.items():\n",
        "    scores = evaluate_model(model, X, y)\n",
        "    results.append(scores)  # Append scores to results\n",
        "    names.append(name)  # Append name to names\n",
        "    print('>%s %.3f (%.3f)' % (name, mean(scores), std(scores)))\n",
        "pyplot.boxplot(results, labels=names, showmeans=True)\n",
        "pyplot.show()"
      ],
      "cell_type": "code",
      "metadata": {
        "colab": {
          "base_uri": "https://localhost:8080/",
          "height": 649
        },
        "id": "B-ztOk2QmXot",
        "outputId": "a36dd5d9-1bd4-45eb-cdd0-7b869bb3d293"
      },
      "execution_count": null,
      "outputs": [
        {
          "output_type": "stream",
          "name": "stdout",
          "text": [
            ">1 0.798 (0.034)\n",
            ">2 0.798 (0.034)\n",
            ">3 0.798 (0.034)\n",
            ">4 0.798 (0.034)\n",
            ">5 0.798 (0.034)\n",
            ">6 0.798 (0.034)\n",
            ">7 0.798 (0.034)\n",
            ">8 0.798 (0.034)\n",
            ">9 0.798 (0.034)\n",
            ">10 0.798 (0.034)\n"
          ]
        },
        {
          "output_type": "stream",
          "name": "stderr",
          "text": [
            "<ipython-input-12-884bf6ce4963>:11: MatplotlibDeprecationWarning: The 'labels' parameter of boxplot() has been renamed 'tick_labels' since Matplotlib 3.9; support for the old name will be dropped in 3.11.\n",
            "  pyplot.boxplot(results, labels=names, showmeans=True)\n"
          ]
        },
        {
          "output_type": "display_data",
          "data": {
            "text/plain": [
              "<Figure size 640x480 with 1 Axes>"
            ],
            "image/png": "[encoded data removed]"
          },
          "metadata": {}
        }
      ]
    },
    {
      "cell_type": "code",
      "source": [
        "from sklearn.model_selection import GridSearchCV\n",
        "from sklearn.datasets import make_classification\n",
        "X,y = make_classification(n_samples=1000,n_features=20,n_informative=15,n_redundant=5,random_state=6)\n",
        "model = AdaBoostClassifier()\n",
        "grid = dict()\n",
        "grid['n_estimators'] = [10,50,100,500]\n",
        "grid['learning_rate'] = [0.0001,0.001,0.01,0.1,1.0]\n",
        "cvs = RepeatedStratifiedKFold(n_splits=10,n_repeats=3,random_state=1)\n",
        "grid_search = GridSearchCV(estimator=model,param_grid=grid,n_jobs=-1,cv=cvs,scoring='accuracy')\n",
        "grid_result = grid_search.fit(X,y)\n",
        "print('Best: %f using %s' % (grid_result.best_score_,grid_result.best_params_))\n",
        "means = grid_result.cv_results_['mean_test_score']\n",
        "stds = grid_result.cv_results_['std_test_score']\n",
        "params = grid_result.cv_results_['params']\n",
        "for mean, stdev, param in zip(means,stds,params):\n",
        "  print('%f (%f) with: %r' % (mean,stdev,param))"
      ],
      "metadata": {
        "colab": {
          "base_uri": "https://localhost:8080/"
        },
        "id": "7QVyvFZHi0BW",
        "outputId": "e9fc3bbf-17a6-42ca-932f-3181a0520efe"
      },
      "execution_count": null,
      "outputs": [
        {
          "output_type": "stream",
          "name": "stdout",
          "text": [
            "Best: 0.811667 using {'learning_rate': 1.0, 'n_estimators': 500}\n",
            "0.646333 (0.036376) with: {'learning_rate': 0.0001, 'n_estimators': 10}\n",
            "0.646333 (0.036376) with: {'learning_rate': 0.0001, 'n_estimators': 50}\n",
            "0.646333 (0.036376) with: {'learning_rate': 0.0001, 'n_estimators': 100}\n",
            "0.646667 (0.036545) with: {'learning_rate': 0.0001, 'n_estimators': 500}\n",
            "0.646333 (0.036376) with: {'learning_rate': 0.001, 'n_estimators': 10}\n",
            "0.646333 (0.036376) with: {'learning_rate': 0.001, 'n_estimators': 50}\n",
            "0.645667 (0.036119) with: {'learning_rate': 0.001, 'n_estimators': 100}\n",
            "0.651333 (0.039811) with: {'learning_rate': 0.001, 'n_estimators': 500}\n",
            "0.644667 (0.036399) with: {'learning_rate': 0.01, 'n_estimators': 10}\n",
            "0.651333 (0.039811) with: {'learning_rate': 0.01, 'n_estimators': 50}\n",
            "0.683333 (0.053125) with: {'learning_rate': 0.01, 'n_estimators': 100}\n",
            "0.751667 (0.049267) with: {'learning_rate': 0.01, 'n_estimators': 500}\n",
            "0.709667 (0.054190) with: {'learning_rate': 0.1, 'n_estimators': 10}\n",
            "0.753000 (0.050672) with: {'learning_rate': 0.1, 'n_estimators': 50}\n",
            "0.764667 (0.047591) with: {'learning_rate': 0.1, 'n_estimators': 100}\n",
            "0.788333 (0.041399) with: {'learning_rate': 0.1, 'n_estimators': 500}\n",
            "0.759000 (0.037269) with: {'learning_rate': 1.0, 'n_estimators': 10}\n",
            "0.798333 (0.033871) with: {'learning_rate': 1.0, 'n_estimators': 50}\n",
            "0.801000 (0.036364) with: {'learning_rate': 1.0, 'n_estimators': 100}\n",
            "0.811667 (0.036614) with: {'learning_rate': 1.0, 'n_estimators': 500}\n"
          ]
        }
      ]
    },
    {
      "cell_type": "markdown",
      "source": [
        "# Evaluation Part"
      ],
      "metadata": {
        "id": "XTJLagGDnncc"
      }
    },
    {
      "cell_type": "code",
      "source": [
        "from sklearn.datasets import make_regression\n",
        "from sklearn.ensemble import AdaBoostRegressor\n",
        "from sklearn.model_selection import train_test_split\n",
        "from sklearn.metrics import r2_score, mean_absolute_error, mean_squared_error\n",
        "X,y = make_regression(n_samples=1000,n_features=20,n_informative=15,noise=0.1,random_state=6)\n",
        "X_train, X_test, y_train, y_test = train_test_split(X,y,test_size=0.3)\n",
        "model = AdaBoostRegressor(n_estimators=50,learning_rate=1)\n",
        "model.fit(X,y)\n",
        "y_pred = model.predict(X_test)\n",
        "print(\"R2 Score:- \",metrics.r2_score(y_test,y_pred))\n",
        "print(\"Mean Absolute Error:- \",metrics.mean_absolute_error(y_test,y_pred))\n",
        "print(\"Mean Squared Error:- \",metrics.mean_squared_error(y_test,y_pred))"
      ],
      "metadata": {
        "colab": {
          "base_uri": "https://localhost:8080/"
        },
        "id": "8J51FCDunKnd",
        "outputId": "60e0d981-ae52-4334-f2b7-48c07cf18ded"
      },
      "execution_count": null,
      "outputs": [
        {
          "output_type": "stream",
          "name": "stdout",
          "text": [
            "R2 Score:-  0.7929433241354458\n",
            "Mean Absolute Error:-  62.86954194464829\n",
            "Mean Squared Error:-  6104.559895202014\n"
          ]
        }
      ]
    },
    {
      "cell_type": "code",
      "source": [
        "from matplotlib import pyplot\n",
        "from sklearn.linear_model import LinearRegression\n",
        "from sklearn.ensemble import AdaBoostRegressor\n",
        "from sklearn.datasets import make_regression\n",
        "from sklearn.model_selection import RepeatedKFold, cross_val_score\n",
        "from numpy import mean, std\n",
        "\n",
        "def get_dataset():\n",
        "    X, y = make_regression(n_samples=1000, n_features=20, n_informative=15, noise=0.1, random_state=6)\n",
        "    return X, y\n",
        "\n",
        "def get_models():\n",
        "    models = dict()\n",
        "    for i in range(1, 11):\n",
        "        base = LinearRegression()\n",
        "        models[str(i)] = AdaBoostRegressor(estimator=base, n_estimators=50)\n",
        "    return models\n",
        "\n",
        "def evaluate_model(model, X, y):\n",
        "    cv = RepeatedKFold(n_splits=10, n_repeats=3, random_state=1)\n",
        "    scores = cross_val_score(model, X, y, scoring='neg_mean_squared_error', cv=cv, n_jobs=-1)\n",
        "    return scores\n",
        "\n",
        "X, y = get_dataset()\n",
        "models = get_models()\n",
        "results, names = list(), list()\n",
        "\n",
        "for name, model in models.items():\n",
        "    scores = evaluate_model(model, X, y)\n",
        "    results.append(scores)\n",
        "    names.append(name)\n",
        "    print('>%s %.3f (%.3f)' % (name, mean(scores), std(scores)))\n",
        "\n",
        "pyplot.boxplot(results, labels=names)\n",
        "pyplot.show()"
      ],
      "metadata": {
        "colab": {
          "base_uri": "https://localhost:8080/",
          "height": 649
        },
        "id": "Ta2mcQvjobo8",
        "outputId": "be79653f-5b69-4911-f65c-cabdb0d258f7"
      },
      "execution_count": null,
      "outputs": [
        {
          "output_type": "stream",
          "name": "stdout",
          "text": [
            ">1 -0.011 (0.002)\n",
            ">2 -0.011 (0.002)\n",
            ">3 -0.011 (0.002)\n",
            ">4 -0.011 (0.002)\n",
            ">5 -0.011 (0.002)\n",
            ">6 -0.011 (0.002)\n",
            ">7 -0.011 (0.002)\n",
            ">8 -0.011 (0.002)\n",
            ">9 -0.011 (0.002)\n",
            ">10 -0.011 (0.002)\n"
          ]
        },
        {
          "output_type": "stream",
          "name": "stderr",
          "text": [
            "<ipython-input-24-3058c14187f2>:34: MatplotlibDeprecationWarning: The 'labels' parameter of boxplot() has been renamed 'tick_labels' since Matplotlib 3.9; support for the old name will be dropped in 3.11.\n",
            "  pyplot.boxplot(results, labels=names)\n"
          ]
        },
        {
          "output_type": "display_data",
          "data": {
            "text/plain": [
              "<Figure size 640x480 with 1 Axes>"
            ],
            "image/png": "[encoded data removed]"
          },
          "metadata": {}
        }
      ]
    },
    {
      "cell_type": "code",
      "source": [
        "from sklearn.linear_model import LogisticRegression\n",
        "lr = LogisticRegression()\n",
        "abc = AdaBoostClassifier(n_estimators=50,estimator=lr,learning_rate=1)\n",
        "model = abc.fit(X_train,y_train)\n",
        "y_pred = model.predict(X_test)\n",
        "y_pred_train = model.predict(X_train)\n",
        "print(\"Testing Accuracy:\",metrics.accuracy_score(y_test,y_pred))\n",
        "print(\"Training Accuracy:\",metrics.accuracy_score(y_train,y_pred_train))"
      ],
      "metadata": {
        "colab": {
          "base_uri": "https://localhost:8080/",
          "height": 372
        },
        "id": "IFpPa476s4sT",
        "outputId": "23d41838-bb38-4f27-ed79-36ffe53c7d22"
      },
      "execution_count": null,
      "outputs": [
        {
          "output_type": "error",
          "ename": "ValueError",
          "evalue": "Unknown label type: continuous. Maybe you are trying to fit a classifier, which expects discrete classes on a regression target with continuous values.",
          "traceback": [
            "\u001b[0;31m---------------------------------------------------------------------------\u001b[0m",
            "\u001b[0;31mValueError\u001b[0m                                Traceback (most recent call last)",
            "\u001b[0;32m<ipython-input-26-89a10644d9c6>\u001b[0m in \u001b[0;36m<cell line: 0>\u001b[0;34m()\u001b[0m\n\u001b[1;32m      2\u001b[0m \u001b[0mlr\u001b[0m \u001b[0;34m=\u001b[0m \u001b[0mLogisticRegression\u001b[0m\u001b[0;34m(\u001b[0m\u001b[0;34m)\u001b[0m\u001b[0;34m\u001b[0m\u001b[0;34m\u001b[0m\u001b[0m\n\u001b[1;32m      3\u001b[0m \u001b[0mabc\u001b[0m \u001b[0;34m=\u001b[0m \u001b[0mAdaBoostClassifier\u001b[0m\u001b[0;34m(\u001b[0m\u001b[0mn_estimators\u001b[0m\u001b[0;34m=\u001b[0m\u001b[0;36m50\u001b[0m\u001b[0;34m,\u001b[0m\u001b[0mestimator\u001b[0m\u001b[0;34m=\u001b[0m\u001b[0mlr\u001b[0m\u001b[0;34m,\u001b[0m\u001b[0mlearning_rate\u001b[0m\u001b[0;34m=\u001b[0m\u001b[0;36m1\u001b[0m\u001b[0;34m)\u001b[0m\u001b[0;34m\u001b[0m\u001b[0;34m\u001b[0m\u001b[0m\n\u001b[0;32m----> 4\u001b[0;31m \u001b[0mmodel\u001b[0m \u001b[0;34m=\u001b[0m \u001b[0mabc\u001b[0m\u001b[0;34m.\u001b[0m\u001b[0mfit\u001b[0m\u001b[0;34m(\u001b[0m\u001b[0mX_train\u001b[0m\u001b[0;34m,\u001b[0m\u001b[0my_train\u001b[0m\u001b[0;34m)\u001b[0m\u001b[0;34m\u001b[0m\u001b[0;34m\u001b[0m\u001b[0m\n\u001b[0m\u001b[1;32m      5\u001b[0m \u001b[0my_pred\u001b[0m \u001b[0;34m=\u001b[0m \u001b[0mmodel\u001b[0m\u001b[0;34m.\u001b[0m\u001b[0mpredict\u001b[0m\u001b[0;34m(\u001b[0m\u001b[0mX_test\u001b[0m\u001b[0;34m)\u001b[0m\u001b[0;34m\u001b[0m\u001b[0;34m\u001b[0m\u001b[0m\n\u001b[1;32m      6\u001b[0m \u001b[0my_pred_train\u001b[0m \u001b[0;34m=\u001b[0m \u001b[0mmodel\u001b[0m\u001b[0;34m.\u001b[0m\u001b[0mpredict\u001b[0m\u001b[0;34m(\u001b[0m\u001b[0mX_train\u001b[0m\u001b[0;34m)\u001b[0m\u001b[0;34m\u001b[0m\u001b[0;34m\u001b[0m\u001b[0m\n",
            "\u001b[0;32m/usr/local/lib/python3.11/dist-packages/sklearn/base.py\u001b[0m in \u001b[0;36mwrapper\u001b[0;34m(estimator, *args, **kwargs)\u001b[0m\n\u001b[1;32m   1387\u001b[0m                 )\n\u001b[1;32m   1388\u001b[0m             ):\n\u001b[0;32m-> 1389\u001b[0;31m                 \u001b[0;32mreturn\u001b[0m \u001b[0mfit_method\u001b[0m\u001b[0;34m(\u001b[0m\u001b[0mestimator\u001b[0m\u001b[0;34m,\u001b[0m \u001b[0;34m*\u001b[0m\u001b[0margs\u001b[0m\u001b[0;34m,\u001b[0m \u001b[0;34m**\u001b[0m\u001b[0mkwargs\u001b[0m\u001b[0;34m)\u001b[0m\u001b[0;34m\u001b[0m\u001b[0;34m\u001b[0m\u001b[0m\n\u001b[0m\u001b[1;32m   1390\u001b[0m \u001b[0;34m\u001b[0m\u001b[0m\n\u001b[1;32m   1391\u001b[0m         \u001b[0;32mreturn\u001b[0m \u001b[0mwrapper\u001b[0m\u001b[0;34m\u001b[0m\u001b[0;34m\u001b[0m\u001b[0m\n",
            "\u001b[0;32m/usr/local/lib/python3.11/dist-packages/sklearn/ensemble/_weight_boosting.py\u001b[0m in \u001b[0;36mfit\u001b[0;34m(self, X, y, sample_weight)\u001b[0m\n\u001b[1;32m    165\u001b[0m \u001b[0;34m\u001b[0m\u001b[0m\n\u001b[1;32m    166\u001b[0m             \u001b[0;31m# Boosting step\u001b[0m\u001b[0;34m\u001b[0m\u001b[0;34m\u001b[0m\u001b[0m\n\u001b[0;32m--> 167\u001b[0;31m             sample_weight, estimator_weight, estimator_error = self._boost(\n\u001b[0m\u001b[1;32m    168\u001b[0m                 \u001b[0miboost\u001b[0m\u001b[0;34m,\u001b[0m \u001b[0mX\u001b[0m\u001b[0;34m,\u001b[0m \u001b[0my\u001b[0m\u001b[0;34m,\u001b[0m \u001b[0msample_weight\u001b[0m\u001b[0;34m,\u001b[0m \u001b[0mrandom_state\u001b[0m\u001b[0;34m\u001b[0m\u001b[0;34m\u001b[0m\u001b[0m\n\u001b[1;32m    169\u001b[0m             )\n",
            "\u001b[0;32m/usr/local/lib/python3.11/dist-packages/sklearn/ensemble/_weight_boosting.py\u001b[0m in \u001b[0;36m_boost\u001b[0;34m(self, iboost, X, y, sample_weight, random_state)\u001b[0m\n\u001b[1;32m    568\u001b[0m         \u001b[0mestimator\u001b[0m \u001b[0;34m=\u001b[0m \u001b[0mself\u001b[0m\u001b[0;34m.\u001b[0m\u001b[0m_make_estimator\u001b[0m\u001b[0;34m(\u001b[0m\u001b[0mrandom_state\u001b[0m\u001b[0;34m=\u001b[0m\u001b[0mrandom_state\u001b[0m\u001b[0;34m)\u001b[0m\u001b[0;34m\u001b[0m\u001b[0;34m\u001b[0m\u001b[0m\n\u001b[1;32m    569\u001b[0m \u001b[0;34m\u001b[0m\u001b[0m\n\u001b[0;32m--> 570\u001b[0;31m         \u001b[0mestimator\u001b[0m\u001b[0;34m.\u001b[0m\u001b[0mfit\u001b[0m\u001b[0;34m(\u001b[0m\u001b[0mX\u001b[0m\u001b[0;34m,\u001b[0m \u001b[0my\u001b[0m\u001b[0;34m,\u001b[0m \u001b[0msample_weight\u001b[0m\u001b[0;34m=\u001b[0m\u001b[0msample_weight\u001b[0m\u001b[0;34m)\u001b[0m\u001b[0;34m\u001b[0m\u001b[0;34m\u001b[0m\u001b[0m\n\u001b[0m\u001b[1;32m    571\u001b[0m \u001b[0;34m\u001b[0m\u001b[0m\n\u001b[1;32m    572\u001b[0m         \u001b[0my_predict\u001b[0m \u001b[0;34m=\u001b[0m \u001b[0mestimator\u001b[0m\u001b[0;34m.\u001b[0m\u001b[0mpredict\u001b[0m\u001b[0;34m(\u001b[0m\u001b[0mX\u001b[0m\u001b[0;34m)\u001b[0m\u001b[0;34m\u001b[0m\u001b[0;34m\u001b[0m\u001b[0m\n",
            "\u001b[0;32m/usr/local/lib/python3.11/dist-packages/sklearn/base.py\u001b[0m in \u001b[0;36mwrapper\u001b[0;34m(estimator, *args, **kwargs)\u001b[0m\n\u001b[1;32m   1387\u001b[0m                 )\n\u001b[1;32m   1388\u001b[0m             ):\n\u001b[0;32m-> 1389\u001b[0;31m                 \u001b[0;32mreturn\u001b[0m \u001b[0mfit_method\u001b[0m\u001b[0;34m(\u001b[0m\u001b[0mestimator\u001b[0m\u001b[0;34m,\u001b[0m \u001b[0;34m*\u001b[0m\u001b[0margs\u001b[0m\u001b[0;34m,\u001b[0m \u001b[0;34m**\u001b[0m\u001b[0mkwargs\u001b[0m\u001b[0;34m)\u001b[0m\u001b[0;34m\u001b[0m\u001b[0;34m\u001b[0m\u001b[0m\n\u001b[0m\u001b[1;32m   1390\u001b[0m \u001b[0;34m\u001b[0m\u001b[0m\n\u001b[1;32m   1391\u001b[0m         \u001b[0;32mreturn\u001b[0m \u001b[0mwrapper\u001b[0m\u001b[0;34m\u001b[0m\u001b[0;34m\u001b[0m\u001b[0m\n",
            "\u001b[0;32m/usr/local/lib/python3.11/dist-packages/sklearn/linear_model/_logistic.py\u001b[0m in \u001b[0;36mfit\u001b[0;34m(self, X, y, sample_weight)\u001b[0m\n\u001b[1;32m   1229\u001b[0m             \u001b[0maccept_large_sparse\u001b[0m\u001b[0;34m=\u001b[0m\u001b[0msolver\u001b[0m \u001b[0;32mnot\u001b[0m \u001b[0;32min\u001b[0m \u001b[0;34m[\u001b[0m\u001b[0;34m\"liblinear\"\u001b[0m\u001b[0;34m,\u001b[0m \u001b[0;34m\"sag\"\u001b[0m\u001b[0;34m,\u001b[0m \u001b[0;34m\"saga\"\u001b[0m\u001b[0;34m]\u001b[0m\u001b[0;34m,\u001b[0m\u001b[0;34m\u001b[0m\u001b[0;34m\u001b[0m\u001b[0m\n\u001b[1;32m   1230\u001b[0m         )\n\u001b[0;32m-> 1231\u001b[0;31m         \u001b[0mcheck_classification_targets\u001b[0m\u001b[0;34m(\u001b[0m\u001b[0my\u001b[0m\u001b[0;34m)\u001b[0m\u001b[0;34m\u001b[0m\u001b[0;34m\u001b[0m\u001b[0m\n\u001b[0m\u001b[1;32m   1232\u001b[0m         \u001b[0mself\u001b[0m\u001b[0;34m.\u001b[0m\u001b[0mclasses_\u001b[0m \u001b[0;34m=\u001b[0m \u001b[0mnp\u001b[0m\u001b[0;34m.\u001b[0m\u001b[0munique\u001b[0m\u001b[0;34m(\u001b[0m\u001b[0my\u001b[0m\u001b[0;34m)\u001b[0m\u001b[0;34m\u001b[0m\u001b[0;34m\u001b[0m\u001b[0m\n\u001b[1;32m   1233\u001b[0m \u001b[0;34m\u001b[0m\u001b[0m\n",
            "\u001b[0;32m/usr/local/lib/python3.11/dist-packages/sklearn/utils/multiclass.py\u001b[0m in \u001b[0;36mcheck_classification_targets\u001b[0;34m(y)\u001b[0m\n\u001b[1;32m    220\u001b[0m         \u001b[0;34m\"multilabel-sequences\"\u001b[0m\u001b[0;34m,\u001b[0m\u001b[0;34m\u001b[0m\u001b[0;34m\u001b[0m\u001b[0m\n\u001b[1;32m    221\u001b[0m     ]:\n\u001b[0;32m--> 222\u001b[0;31m         raise ValueError(\n\u001b[0m\u001b[1;32m    223\u001b[0m             \u001b[0;34mf\"Unknown label type: {y_type}. Maybe you are trying to fit a \"\u001b[0m\u001b[0;34m\u001b[0m\u001b[0;34m\u001b[0m\u001b[0m\n\u001b[1;32m    224\u001b[0m             \u001b[0;34m\"classifier, which expects discrete classes on a \"\u001b[0m\u001b[0;34m\u001b[0m\u001b[0;34m\u001b[0m\u001b[0m\n",
            "\u001b[0;31mValueError\u001b[0m: Unknown label type: continuous. Maybe you are trying to fit a classifier, which expects discrete classes on a regression target with continuous values."
          ]
        }
      ]
    },
    {
      "cell_type": "code",
      "source": [
        "from matplotlib import pyplot\n",
        "from sklearn.linear_model import LogisticRegression\n",
        "from sklearn.ensemble import AdaBoostClassifier  # Changed to AdaBoostClassifier\n",
        "from sklearn.datasets import make_regression\n",
        "from sklearn.model_selection import RepeatedKFold, cross_val_score\n",
        "from numpy import mean, std\n",
        "\n",
        "def get_dataset():\n",
        "    X,y = make_classification(n_samples=1000,n_features=20,n_informative=15,n_redundant=5,random_state=6)\n",
        "    return X, y\n",
        "\n",
        "def get_models():\n",
        "    models = dict()\n",
        "    for i in range(1, 11):\n",
        "        base = LogisticRegression()\n",
        "        models[str(i)] = AdaBoostClassifier(estimator=base, n_estimators=50)  # Changed to AdaBoostClassifier\n",
        "    return models\n",
        "\n",
        "def evaluate_model(model, X, y):\n",
        "    cv = RepeatedKFold(n_splits=10, n_repeats=3, random_state=1)\n",
        "    scores = cross_val_score(model, X, y, scoring='accuracy', cv=cv, n_jobs=-1)\n",
        "    return scores\n",
        "\n",
        "X, y = get_dataset()\n",
        "models = get_models()\n",
        "results, names = list(), list()\n",
        "\n",
        "for name, model in models.items():\n",
        "    scores = evaluate_model(model, X, y)\n",
        "    results.append(scores)\n",
        "    names.append(name)\n",
        "    print('>%s %.3f (%.3f)' % (name, mean(scores), std(scores)))\n",
        "\n",
        "pyplot.boxplot(results, labels=names)\n",
        "pyplot.show()"
      ],
      "metadata": {
        "colab": {
          "base_uri": "https://localhost:8080/",
          "height": 649
        },
        "id": "aiMgXm4KueBe",
        "outputId": "392bfe4e-5679-4aa1-d487-4ed93c571cf2"
      },
      "execution_count": null,
      "outputs": [
        {
          "output_type": "stream",
          "name": "stdout",
          "text": [
            ">1 0.789 (0.041)\n",
            ">2 0.789 (0.041)\n",
            ">3 0.789 (0.041)\n",
            ">4 0.789 (0.041)\n",
            ">5 0.789 (0.041)\n",
            ">6 0.789 (0.041)\n",
            ">7 0.789 (0.041)\n",
            ">8 0.789 (0.041)\n",
            ">9 0.789 (0.041)\n",
            ">10 0.789 (0.041)\n"
          ]
        },
        {
          "output_type": "stream",
          "name": "stderr",
          "text": [
            "<ipython-input-29-3dbde8359b9b>:34: MatplotlibDeprecationWarning: The 'labels' parameter of boxplot() has been renamed 'tick_labels' since Matplotlib 3.9; support for the old name will be dropped in 3.11.\n",
            "  pyplot.boxplot(results, labels=names)\n"
          ]
        },
        {
          "output_type": "display_data",
          "data": {
            "text/plain": [
              "<Figure size 640x480 with 1 Axes>"
            ],
            "image/png": "[encoded data removed]"
          },
          "metadata": {}
        }
      ]
    },
    {
      "cell_type": "code",
      "source": [],
      "metadata": {
        "id": "pS4N3-CrvoaU"
      },
      "execution_count": null,
      "outputs": []
    }
  ]
}