{
  "nbformat": 4,
  "nbformat_minor": 0,
  "metadata": {
    "colab": {
      "provenance": []
    },
    "kernelspec": {
      "name": "python3",
      "display_name": "Python 3"
    },
    "language_info": {
      "name": "python"
    }
  },
  "cells": [
    {
      "cell_type": "code",
      "execution_count": null,
      "metadata": {
        "id": "n-vgtxirluQL"
      },
      "outputs": [],
      "source": [
        "from sklearn.svm import LinearSVC\n",
        "from sklearn import datasets, svm\n",
        "from sklearn.datasets import load_iris\n",
        "from sklearn.datasets import make_classification\n",
        "from sklearn.model_selection import train_test_split , cross_val_score\n",
        "from sklearn.metrics import confusion_matrix, classification_report"
      ]
    },
    {
      "cell_type": "code",
      "source": [
        "x, y = make_classification(n_samples=5000, n_features=10, n_classes=3, n_clusters_per_class=1)"
      ],
      "metadata": {
        "id": "79HXhDIfmPFQ"
      },
      "execution_count": null,
      "outputs": []
    },
    {
      "cell_type": "code",
      "source": [
        "xtrain, xtest, ytrain, ytest = train_test_split(x, y, test_size=0.15)"
      ],
      "metadata": {
        "id": "nqyaCGnMmb1y"
      },
      "execution_count": null,
      "outputs": []
    },
    {
      "cell_type": "code",
      "source": [
        "lsvc = LinearSVC(verbose=0)\n",
        "print(lsvc)\n",
        "# LinearSVC(verbose=0, C=1.0, class_weights=None, loss='squared_hinge', max_iter=1000, multi_class='ovr', penalty='l2', random_state=None, tol=0.0001, dual=True, fit_intercept=True, intercept_scaling=1)"
      ],
      "metadata": {
        "colab": {
          "base_uri": "https://localhost:8080/"
        },
        "id": "9OHbO_a9mjFb",
        "outputId": "452edd2e-8a60-405c-e390-605587aea661"
      },
      "execution_count": null,
      "outputs": [
        {
          "output_type": "stream",
          "name": "stdout",
          "text": [
            "LinearSVC()\n"
          ]
        }
      ]
    },
    {
      "cell_type": "code",
      "source": [
        "lsvc.fit(xtrain,ytrain)\n",
        "score = lsvc.score(xtrain,ytrain)"
      ],
      "metadata": {
        "id": "f6PH5J1QnNwu"
      },
      "execution_count": null,
      "outputs": []
    },
    {
      "cell_type": "code",
      "source": [
        "print(score)"
      ],
      "metadata": {
        "colab": {
          "base_uri": "https://localhost:8080/"
        },
        "id": "fyG09uEPnbj7",
        "outputId": "fbcbe101-1075-4916-c96a-b18de4d52c38"
      },
      "execution_count": null,
      "outputs": [
        {
          "output_type": "stream",
          "name": "stdout",
          "text": [
            "0.8856470588235295\n"
          ]
        }
      ]
    },
    {
      "cell_type": "code",
      "source": [
        "cv_scores = cross_val_score(lsvc, xtrain, ytrain, cv=5)\n",
        "print(\"CV Average Score: %2f\" %cv_scores.mean())"
      ],
      "metadata": {
        "colab": {
          "base_uri": "https://localhost:8080/"
        },
        "id": "VL_rR9NIncy6",
        "outputId": "cf31491d-eb35-4e2f-d021-6b8067341def"
      },
      "execution_count": null,
      "outputs": [
        {
          "output_type": "stream",
          "name": "stdout",
          "text": [
            "CV Average Score: 0.883529\n"
          ]
        }
      ]
    },
    {
      "cell_type": "code",
      "source": [
        "ypred = lsvc.predict(xtest)\n",
        "cm = confusion_matrix(ytest, ypred)\n",
        "print(cm)"
      ],
      "metadata": {
        "colab": {
          "base_uri": "https://localhost:8080/"
        },
        "id": "lSNxOdmTnihL",
        "outputId": "2011ade1-300d-41f3-9e8b-a3bd2b009ede"
      },
      "execution_count": null,
      "outputs": [
        {
          "output_type": "stream",
          "name": "stdout",
          "text": [
            "[[222  14   9]\n",
            " [ 39 206  16]\n",
            " [  1   8 235]]\n"
          ]
        }
      ]
    },
    {
      "cell_type": "code",
      "source": [
        "cr = classification_report(ytest, ypred)\n",
        "print(cr)"
      ],
      "metadata": {
        "colab": {
          "base_uri": "https://localhost:8080/"
        },
        "id": "s-OJA9_kn3ND",
        "outputId": "21080f8d-4c2f-471a-f4d4-8bd9e34a042e"
      },
      "execution_count": null,
      "outputs": [
        {
          "output_type": "stream",
          "name": "stdout",
          "text": [
            "              precision    recall  f1-score   support\n",
            "\n",
            "           0       0.85      0.91      0.88       245\n",
            "           1       0.90      0.79      0.84       261\n",
            "           2       0.90      0.96      0.93       244\n",
            "\n",
            "    accuracy                           0.88       750\n",
            "   macro avg       0.88      0.89      0.88       750\n",
            "weighted avg       0.89      0.88      0.88       750\n",
            "\n"
          ]
        }
      ]
    },
    {
      "cell_type": "markdown",
      "source": [
        "# For IRIS Data"
      ],
      "metadata": {
        "id": "KOYmyI6XtWbP"
      }
    },
    {
      "cell_type": "code",
      "source": [
        "iris = datasets.load_iris()\n",
        "X = iris.data\n",
        "y = iris.target"
      ],
      "metadata": {
        "id": "dofSN7iRn9ch"
      },
      "execution_count": null,
      "outputs": []
    },
    {
      "cell_type": "code",
      "source": [
        "Xtrain, Xtest, ytrain, ytest = train_test_split(X, y, test_size=0.15)"
      ],
      "metadata": {
        "id": "kS31XnbqojM0"
      },
      "execution_count": null,
      "outputs": []
    },
    {
      "cell_type": "code",
      "source": [
        "lsvc = LinearSVC(verbose=0)\n",
        "print(lsvc)"
      ],
      "metadata": {
        "colab": {
          "base_uri": "https://localhost:8080/"
        },
        "id": "z6YSUopuovbq",
        "outputId": "8475dd7a-fffb-4975-872f-7bfa59db796e"
      },
      "execution_count": null,
      "outputs": [
        {
          "output_type": "stream",
          "name": "stdout",
          "text": [
            "LinearSVC()\n"
          ]
        }
      ]
    },
    {
      "cell_type": "code",
      "source": [
        "lsvc.fit(Xtrain,ytrain)\n",
        "score = lsvc.score(Xtrain,ytrain)\n",
        "print(score)"
      ],
      "metadata": {
        "colab": {
          "base_uri": "https://localhost:8080/"
        },
        "id": "hU9h4K-WozeB",
        "outputId": "9a6ddcc0-999b-44a5-fce4-85390f36c87d"
      },
      "execution_count": null,
      "outputs": [
        {
          "output_type": "stream",
          "name": "stdout",
          "text": [
            "0.9921259842519685\n"
          ]
        }
      ]
    },
    {
      "cell_type": "code",
      "source": [
        "cv_scores = cross_val_score(lsvc, Xtrain, ytrain, cv=5)\n",
        "print(\"CV Average Score: %2f\" %cv_scores.mean())\n",
        "ypred = lsvc.predict(Xtest)\n",
        "cm = confusion_matrix(ytest, ypred)\n",
        "print(cm)\n",
        "cr = classification_report(ytest, ypred)\n",
        "print(cr)"
      ],
      "metadata": {
        "colab": {
          "base_uri": "https://localhost:8080/"
        },
        "id": "uYSneo0Yo4jS",
        "outputId": "6ce3b3a3-bcda-4f1b-ddfe-07c15e525a52"
      },
      "execution_count": null,
      "outputs": [
        {
          "output_type": "stream",
          "name": "stdout",
          "text": [
            "CV Average Score: 0.960923\n",
            "[[7 0 0]\n",
            " [0 6 2]\n",
            " [0 0 8]]\n",
            "              precision    recall  f1-score   support\n",
            "\n",
            "           0       1.00      1.00      1.00         7\n",
            "           1       1.00      0.75      0.86         8\n",
            "           2       0.80      1.00      0.89         8\n",
            "\n",
            "    accuracy                           0.91        23\n",
            "   macro avg       0.93      0.92      0.92        23\n",
            "weighted avg       0.93      0.91      0.91        23\n",
            "\n",
            "CV Average Score: 0.960923\n",
            "[[7 0 0]\n",
            " [0 6 2]\n",
            " [0 0 8]]\n",
            "              precision    recall  f1-score   support\n",
            "\n",
            "           0       1.00      1.00      1.00         7\n",
            "           1       1.00      0.75      0.86         8\n",
            "           2       0.80      1.00      0.89         8\n",
            "\n",
            "    accuracy                           0.91        23\n",
            "   macro avg       0.93      0.92      0.92        23\n",
            "weighted avg       0.93      0.91      0.91        23\n",
            "\n"
          ]
        }
      ]
    },
    {
      "cell_type": "code",
      "source": [
        "iris = datasets.load_iris()\n",
        "X = iris.data[:,:2]\n",
        "y = iris.target\n",
        "Xtrain, Xtest, ytrain, ytest = train_test_split(X, y, test_size=0.25, random_state=42)"
      ],
      "metadata": {
        "id": "XpMpLJrRpXCp"
      },
      "execution_count": null,
      "outputs": []
    },
    {
      "cell_type": "code",
      "source": [
        "def evaluate_on_test_data(model=None):\n",
        "  predictions=model.predict(Xtest)\n",
        "  correct_classification = 0\n",
        "  for i in range(len(ytest)):\n",
        "    if predictions[i] == ytest[i]:\n",
        "      correct_classification += 1\n",
        "  accuracy = 100*correct_classification / len(ytest)\n",
        "  return accuracy"
      ],
      "metadata": {
        "id": "1rqntAQNpo12"
      },
      "execution_count": null,
      "outputs": []
    },
    {
      "cell_type": "code",
      "source": [
        "kernels = ('linear', 'poly', 'rbf')\n",
        "accuracies = []\n",
        "for index, kernel in enumerate(kernels):\n",
        "  model = svm.SVC(kernel=kernel)\n",
        "  model.fit(Xtrain, ytrain)\n",
        "  accuracy = evaluate_on_test_data(model)\n",
        "  accuracies.append(accuracy)\n",
        "  print(\"{} % Accuracy obtained with kernel = {}\".format(accuracy, kernel))"
      ],
      "metadata": {
        "colab": {
          "base_uri": "https://localhost:8080/"
        },
        "id": "kmgba2J2qE7d",
        "outputId": "45fc4ec5-743e-49df-a54e-cb2c0640380a"
      },
      "execution_count": null,
      "outputs": [
        {
          "output_type": "stream",
          "name": "stdout",
          "text": [
            "84.21052631578948 % Accuracy obtained with kernel = linear\n",
            "76.3157894736842 % Accuracy obtained with kernel = poly\n",
            "84.21052631578948 % Accuracy obtained with kernel = rbf\n"
          ]
        }
      ]
    },
    {
      "cell_type": "code",
      "source": [
        "# Train SVMs with different kernels\n",
        "svc = svm.SVC(kernel = 'linear').fit(Xtrain, ytrain)\n",
        "rbf_svc = svm.SVC(kernel = 'rbf').fit(Xtrain, ytrain)\n",
        "poly_svc = svm.SVC(kernel = 'poly').fit(Xtrain, ytrain)"
      ],
      "metadata": {
        "id": "uE3Hkl4dqvXt"
      },
      "execution_count": null,
      "outputs": []
    },
    {
      "cell_type": "code",
      "source": [],
      "metadata": {
        "id": "EADLueR5rAvu"
      },
      "execution_count": null,
      "outputs": []
    }
  ]
}